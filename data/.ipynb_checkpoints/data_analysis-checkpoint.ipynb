{
 "cells": [
  {
   "cell_type": "code",
   "execution_count": 4,
   "id": "63f0dba2-a984-41d6-a3e2-dac6507cd410",
   "metadata": {},
   "outputs": [],
   "source": [
    "import pandas as pd "
   ]
  },
  {
   "cell_type": "code",
   "execution_count": 5,
   "id": "bfc89846-55c8-44f6-914f-eff0142aaa11",
   "metadata": {},
   "outputs": [],
   "source": [
    "df = pd.read_csv(\"137-174.csv\",usecols=[0,3,4])"
   ]
  },
  {
   "cell_type": "code",
   "execution_count": 6,
   "id": "ed9f75c7-6701-440b-b11f-8f2b8d48233d",
   "metadata": {},
   "outputs": [
    {
     "data": {
      "text/html": [
       "<div>\n",
       "<style scoped>\n",
       "    .dataframe tbody tr th:only-of-type {\n",
       "        vertical-align: middle;\n",
       "    }\n",
       "\n",
       "    .dataframe tbody tr th {\n",
       "        vertical-align: top;\n",
       "    }\n",
       "\n",
       "    .dataframe thead th {\n",
       "        text-align: right;\n",
       "    }\n",
       "</style>\n",
       "<table border=\"1\" class=\"dataframe\">\n",
       "  <thead>\n",
       "    <tr style=\"text-align: right;\">\n",
       "      <th></th>\n",
       "      <th>ความถี่</th>\n",
       "      <th>หน่วยงานผู้ใช้คลื่น</th>\n",
       "      <th>ผู้ใช้งานในพื้นที่</th>\n",
       "    </tr>\n",
       "  </thead>\n",
       "  <tbody>\n",
       "    <tr>\n",
       "      <th>0</th>\n",
       "      <td>144.3875</td>\n",
       "      <td>กิจการวิทยุสมัครเล่น</td>\n",
       "      <td>นักวิทยุสมัครเล่นในพื้นที่</td>\n",
       "    </tr>\n",
       "    <tr>\n",
       "      <th>1</th>\n",
       "      <td>144.4625</td>\n",
       "      <td>กิจการวิทยุสมัครเล่น</td>\n",
       "      <td>นักวิทยุสมัครเล่นในพื้นที่</td>\n",
       "    </tr>\n",
       "    <tr>\n",
       "      <th>2</th>\n",
       "      <td>144.6250</td>\n",
       "      <td>กิจการวิทยุสมัครเล่น</td>\n",
       "      <td>นักวิทยุสมัครเล่นในพื้นที่</td>\n",
       "    </tr>\n",
       "    <tr>\n",
       "      <th>3</th>\n",
       "      <td>144.8750</td>\n",
       "      <td>กิจการวิทยุสมัครเล่น</td>\n",
       "      <td>นักวิทยุสมัครเล่นในพื้นที่</td>\n",
       "    </tr>\n",
       "    <tr>\n",
       "      <th>4</th>\n",
       "      <td>144.9750</td>\n",
       "      <td>กิจการวิทยุสมัครเล่น</td>\n",
       "      <td>นักวิทยุสมัครเล่นในพื้นที่</td>\n",
       "    </tr>\n",
       "  </tbody>\n",
       "</table>\n",
       "</div>"
      ],
      "text/plain": [
       "    ความถี่   หน่วยงานผู้ใช้คลื่น          ผู้ใช้งานในพื้นที่\n",
       "0  144.3875  กิจการวิทยุสมัครเล่น  นักวิทยุสมัครเล่นในพื้นที่\n",
       "1  144.4625  กิจการวิทยุสมัครเล่น  นักวิทยุสมัครเล่นในพื้นที่\n",
       "2  144.6250  กิจการวิทยุสมัครเล่น  นักวิทยุสมัครเล่นในพื้นที่\n",
       "3  144.8750  กิจการวิทยุสมัครเล่น  นักวิทยุสมัครเล่นในพื้นที่\n",
       "4  144.9750  กิจการวิทยุสมัครเล่น  นักวิทยุสมัครเล่นในพื้นที่"
      ]
     },
     "execution_count": 6,
     "metadata": {},
     "output_type": "execute_result"
    }
   ],
   "source": [
    "df.head()"
   ]
  },
  {
   "cell_type": "code",
   "execution_count": 7,
   "id": "22b004e2-2db9-4e6c-bf65-8953783f15d2",
   "metadata": {},
   "outputs": [],
   "source": [
    "df  = df.rename(columns = {'ความถี่':'freq','หน่วยงานผู้ใช้คลื่น':'institution','ผู้ใช้งานในพื้นที่':'usage'})"
   ]
  },
  {
   "cell_type": "code",
   "execution_count": 10,
   "id": "c7dffcef-d256-420e-8275-7e65699098b1",
   "metadata": {},
   "outputs": [
    {
     "data": {
      "text/html": [
       "<div>\n",
       "<style scoped>\n",
       "    .dataframe tbody tr th:only-of-type {\n",
       "        vertical-align: middle;\n",
       "    }\n",
       "\n",
       "    .dataframe tbody tr th {\n",
       "        vertical-align: top;\n",
       "    }\n",
       "\n",
       "    .dataframe thead th {\n",
       "        text-align: right;\n",
       "    }\n",
       "</style>\n",
       "<table border=\"1\" class=\"dataframe\">\n",
       "  <thead>\n",
       "    <tr style=\"text-align: right;\">\n",
       "      <th></th>\n",
       "      <th>freq</th>\n",
       "      <th>usage</th>\n",
       "      <th>area</th>\n",
       "    </tr>\n",
       "  </thead>\n",
       "  <tbody>\n",
       "    <tr>\n",
       "      <th>0</th>\n",
       "      <td>144.3875</td>\n",
       "      <td>กิจการวิทยุสมัครเล่น</td>\n",
       "      <td>นักวิทยุสมัครเล่นในพื้นที่</td>\n",
       "    </tr>\n",
       "    <tr>\n",
       "      <th>1</th>\n",
       "      <td>144.4625</td>\n",
       "      <td>กิจการวิทยุสมัครเล่น</td>\n",
       "      <td>นักวิทยุสมัครเล่นในพื้นที่</td>\n",
       "    </tr>\n",
       "    <tr>\n",
       "      <th>2</th>\n",
       "      <td>144.6250</td>\n",
       "      <td>กิจการวิทยุสมัครเล่น</td>\n",
       "      <td>นักวิทยุสมัครเล่นในพื้นที่</td>\n",
       "    </tr>\n",
       "    <tr>\n",
       "      <th>3</th>\n",
       "      <td>144.8750</td>\n",
       "      <td>กิจการวิทยุสมัครเล่น</td>\n",
       "      <td>นักวิทยุสมัครเล่นในพื้นที่</td>\n",
       "    </tr>\n",
       "    <tr>\n",
       "      <th>4</th>\n",
       "      <td>144.9750</td>\n",
       "      <td>กิจการวิทยุสมัครเล่น</td>\n",
       "      <td>นักวิทยุสมัครเล่นในพื้นที่</td>\n",
       "    </tr>\n",
       "  </tbody>\n",
       "</table>\n",
       "</div>"
      ],
      "text/plain": [
       "       freq                 usage                        area\n",
       "0  144.3875  กิจการวิทยุสมัครเล่น  นักวิทยุสมัครเล่นในพื้นที่\n",
       "1  144.4625  กิจการวิทยุสมัครเล่น  นักวิทยุสมัครเล่นในพื้นที่\n",
       "2  144.6250  กิจการวิทยุสมัครเล่น  นักวิทยุสมัครเล่นในพื้นที่\n",
       "3  144.8750  กิจการวิทยุสมัครเล่น  นักวิทยุสมัครเล่นในพื้นที่\n",
       "4  144.9750  กิจการวิทยุสมัครเล่น  นักวิทยุสมัครเล่นในพื้นที่"
      ]
     },
     "execution_count": 10,
     "metadata": {},
     "output_type": "execute_result"
    }
   ],
   "source": [
    "df.head()"
   ]
  },
  {
   "cell_type": "code",
   "execution_count": 9,
   "id": "9c58d8bc-45e7-4088-a6ba-244fad59036d",
   "metadata": {},
   "outputs": [],
   "source": [
    "df.to_csv('goverment.csv', index=False)"
   ]
  },
  {
   "cell_type": "code",
   "execution_count": null,
   "id": "cdd5d72f-ba45-4ea3-ae46-9582288d73ef",
   "metadata": {},
   "outputs": [],
   "source": []
  }
 ],
 "metadata": {
  "kernelspec": {
   "display_name": "Python 3 (ipykernel)",
   "language": "python",
   "name": "python3"
  },
  "language_info": {
   "codemirror_mode": {
    "name": "ipython",
    "version": 3
   },
   "file_extension": ".py",
   "mimetype": "text/x-python",
   "name": "python",
   "nbconvert_exporter": "python",
   "pygments_lexer": "ipython3",
   "version": "3.11.4"
  }
 },
 "nbformat": 4,
 "nbformat_minor": 5
}
